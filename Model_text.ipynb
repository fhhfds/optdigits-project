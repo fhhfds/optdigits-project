{
 "cells": [
  {
   "cell_type": "markdown",
   "id": "d4eb5621-a252-49e9-8f7c-a161e489be38",
   "metadata": {},
   "source": [
    "# 手写数字识别"
   ]
  },
  {
   "cell_type": "code",
   "execution_count": 1,
   "id": "9180c2ff-a3ef-4461-b945-e43cc8b17cdd",
   "metadata": {},
   "outputs": [],
   "source": [
    "import pandas as pd\n",
    "from sklearn.model_selection import train_test_split, KFold, GridSearchCV\n",
    "from sklearn.metrics import classification_report\n",
    "from sklearn import metrics\n",
    "%matplotlib inline\n",
    "import matplotlib.pyplot as plt\n",
    "import cv2\n",
    "import numpy as np\n",
    "\n",
    "#定义10折交叉\n",
    "kf = KFold(n_splits=5, shuffle=True, random_state=42)"
   ]
  },
  {
   "cell_type": "markdown",
   "id": "09bd407a-6f6a-4699-aeec-4b976c028b63",
   "metadata": {},
   "source": [
    "## 1.数据预处理和探索"
   ]
  },
  {
   "cell_type": "code",
   "execution_count": 2,
   "id": "e2fae435-aec6-404e-b8f3-d1093f32737a",
   "metadata": {},
   "outputs": [
    {
     "name": "stdout",
     "output_type": "stream",
     "text": [
      "(3823, 65) (1797, 65)\n"
     ]
    }
   ],
   "source": [
    "# 读取训练数据和测试数据\n",
    "train_data = pd.read_csv('./datasets/optdigits.tra', header=None)\n",
    "test_data = pd.read_csv('./datasets/optdigits.tes', header=None)\n",
    "#打印数据大小信息\n",
    "print(train_data.shape,test_data.shape)"
   ]
  },
  {
   "cell_type": "code",
   "execution_count": 3,
   "id": "925979cc-fc50-430c-8177-05a8d7d18ac4",
   "metadata": {},
   "outputs": [
    {
     "name": "stdout",
     "output_type": "stream",
     "text": [
      "(3823, 64)\n"
     ]
    }
   ],
   "source": [
    "# 将数据和标签分开\n",
    "X_train = train_data.iloc[:,:-1].values\n",
    "y_train = train_data.iloc[:,-1].values\n",
    "X_test = test_data.iloc[:,:-1].values\n",
    "y_test = test_data.iloc[:,-1].values\n",
    "\n",
    "print(X_train.shape)"
   ]
  },
  {
   "cell_type": "code",
   "execution_count": 4,
   "id": "8c02ef35-abb3-4798-8476-f5d5fcabba69",
   "metadata": {},
   "outputs": [
    {
     "name": "stdout",
     "output_type": "stream",
     "text": [
      "[[ 0  1  6 15 12  1  0  0]\n",
      " [ 0  7 16  6  6 10  0  0]\n",
      " [ 0  8 16  2  0 11  2  0]\n",
      " [ 0  5 16  3  0  5  7  0]\n",
      " [ 0  7 13  3  0  8  7  0]\n",
      " [ 0  4 12  0  1 13  5  0]\n",
      " [ 0  0 14  9 15  9  0  0]\n",
      " [ 0  0  6 14  7  1  0  0]]\n"
     ]
    },
    {
     "data": {
      "text/plain": [
       "(3823, 8, 8)"
      ]
     },
     "execution_count": 4,
     "metadata": {},
     "output_type": "execute_result"
    }
   ],
   "source": [
    "#转化为 8*8\n",
    "Tra_images = X_train.reshape(-1, 8, 8)\n",
    "Tes_images = X_test.reshape(-1, 8, 8)\n",
    "print(Tra_images[0])\n",
    "Tra_images.shape"
   ]
  },
  {
   "cell_type": "code",
   "execution_count": 5,
   "id": "cd1e7a66-d105-4855-a408-94a29ed7d6c3",
   "metadata": {},
   "outputs": [
    {
     "data": {
      "image/png": "[encoded data removed]",
      "text/plain": [
       "<Figure size 800x400 with 12 Axes>"
      ]
     },
     "metadata": {},
     "output_type": "display_data"
    }
   ],
   "source": [
    "#输出图像\n",
    "plt.figure(figsize=(8, 4))\n",
    "for i in range(1, 13):\n",
    "    plt.subplot(3, 4, i)\n",
    "    plt.imshow(Tra_images[i-1], cmap='gray')\n",
    "    plt.title(f\"Label: {y_train[i-1]}\")\n",
    "    plt.axis('off')\n",
    "\n",
    "plt.tight_layout()"
   ]
  },
  {
   "cell_type": "code",
   "execution_count": 6,
   "id": "69005dc3-9631-4d7e-a8ac-20f7c1628fb4",
   "metadata": {},
   "outputs": [
    {
     "data": {
      "text/plain": [
       "array([[0, 0, 1, 1, 1, 0, 0, 0],\n",
       "       [0, 1, 1, 1, 1, 1, 0, 0],\n",
       "       [0, 1, 1, 0, 1, 1, 1, 0],\n",
       "       [0, 1, 1, 0, 0, 1, 1, 0],\n",
       "       [0, 1, 1, 0, 0, 1, 1, 0],\n",
       "       [0, 1, 1, 0, 0, 1, 1, 0],\n",
       "       [0, 0, 1, 1, 1, 1, 1, 0],\n",
       "       [0, 0, 1, 1, 1, 0, 0, 0]], dtype=uint8)"
      ]
     },
     "execution_count": 6,
     "metadata": {},
     "output_type": "execute_result"
    }
   ],
   "source": [
    "#二值化\n",
    "# 创建一个数组以存储二值化后的图像\n",
    "Tra_binary = np.zeros_like(Tra_images, dtype=np.uint8)\n",
    "Tes_binary = np.zeros_like(Tes_images, dtype=np.uint8)\n",
    "\n",
    "# 对图像应用自适应阈值二值化\n",
    "for i in range(len(Tra_images)):\n",
    "    image_uint8 = Tra_images[i].astype(np.uint8)\n",
    "     # 应用自适应阈值二值化\n",
    "    binary_image = cv2.adaptiveThreshold(image_uint8, 1, cv2.ADAPTIVE_THRESH_GAUSSIAN_C,\n",
    "                                         cv2.THRESH_BINARY, 19, 2)\n",
    "    Tra_binary[i] = binary_image\n",
    "\n",
    "for i in range(len(Tes_images)):\n",
    "    image_uint8 = Tes_images[i].astype(np.uint8)\n",
    "     # 应用自适应阈值二值化\n",
    "    binary_image = cv2.adaptiveThreshold(image_uint8, 1, cv2.ADAPTIVE_THRESH_GAUSSIAN_C,\n",
    "                                         cv2.THRESH_BINARY, 19, 2)\n",
    "    Tes_binary[i] = binary_image\n",
    "    \n",
    "Tra_binary[1]"
   ]
  },
  {
   "cell_type": "code",
   "execution_count": 7,
   "id": "e40129b4-9f3c-4e59-88da-c3da229657ff",
   "metadata": {},
   "outputs": [
    {
     "data": {
      "image/png": "[encoded data removed]",
      "text/plain": [
       "<Figure size 800x400 with 12 Axes>"
      ]
     },
     "metadata": {},
     "output_type": "display_data"
    }
   ],
   "source": [
    "#输出图像\n",
    "plt.figure(figsize=(8, 4))\n",
    "for i in range(1, 13):\n",
    "    plt.subplot(3, 4, i)\n",
    "    plt.imshow(Tra_binary[i-1], cmap='binary', vmin=0, vmax=1)\n",
    "    plt.title(f\"Label: {y_train[i-1]}\")\n",
    "    plt.axis('off')\n",
    "\n",
    "plt.tight_layout()"
   ]
  },
  {
   "cell_type": "code",
   "execution_count": 8,
   "id": "39e2968f-6d82-4011-9477-749e14b080e8",
   "metadata": {},
   "outputs": [
    {
     "data": {
      "text/plain": [
       "(3823, 64)"
      ]
     },
     "execution_count": 8,
     "metadata": {},
     "output_type": "execute_result"
    }
   ],
   "source": [
    "#再转化回来一维矩阵\n",
    "X1_train = Tra_binary.reshape((-1,64))\n",
    "X1_test = Tes_binary.reshape((-1,64))\n",
    "\n",
    "X1_train.shape"
   ]
  },
  {
   "cell_type": "code",
   "execution_count": 9,
   "id": "1360cc84-17ac-4c9f-9d98-6a846a2837b6",
   "metadata": {},
   "outputs": [
    {
     "data": {
      "text/plain": [
       "array([ 0.        ,  0.80596144,  0.11189377,  0.74991729,  0.12090073,\n",
       "       -0.80276201, -0.41156658, -0.13533236, -0.02362917,  1.65123657,\n",
       "        0.99777993, -1.42470757, -0.96603501,  0.28719213, -0.54167804,\n",
       "       -0.15371977, -0.04147088,  1.5647766 ,  1.09072481, -0.80016922,\n",
       "       -1.17008119,  0.46920377, -0.01285497, -0.11294321, -0.03236348,\n",
       "        0.86351952,  1.10341132, -1.03928377, -1.53982306, -0.47781378,\n",
       "        1.28569254, -0.04857702, -0.0361882 ,  1.54367312,  0.85329603,\n",
       "       -1.00785975, -1.74810268, -0.20414887,  1.1725723 ,  0.        ,\n",
       "       -0.08687393,  0.8842723 ,  0.85222101, -1.11117025, -1.09595144,\n",
       "        0.74504991,  0.34099745, -0.09305233, -0.06610453, -0.40823114,\n",
       "        1.08209717, -0.17228382,  0.98511069, -0.04769026, -0.76390659,\n",
       "       -0.19320098, -0.01617539, -0.30500748,  0.02894501,  0.47463116,\n",
       "       -0.89378974, -0.98708887, -0.52279362, -0.17574055])"
      ]
     },
     "execution_count": 9,
     "metadata": {},
     "output_type": "execute_result"
    }
   ],
   "source": [
    "#标准化\n",
    "from sklearn.preprocessing import StandardScaler\n",
    "scaler = StandardScaler()\n",
    "X2_train = scaler.fit_transform(X_train)\n",
    "X2_test = scaler.fit_transform(X_test)\n",
    "\n",
    "X2_train[0]"
   ]
  },
  {
   "cell_type": "code",
   "execution_count": 10,
   "id": "29922448-d4a0-44bd-8c61-5adf426a00df",
   "metadata": {},
   "outputs": [
    {
     "data": {
      "image/png": "[encoded data removed]",
      "text/plain": [
       "<Figure size 800x400 with 12 Axes>"
      ]
     },
     "metadata": {},
     "output_type": "display_data"
    }
   ],
   "source": [
    "#输出图像\n",
    "plt.figure(figsize=(8, 4))\n",
    "for i in range(1, 13):\n",
    "    plt.subplot(3, 4, i)\n",
    "    plt.imshow(X2_train[i-1].reshape(8, 8), cmap='gray')\n",
    "    plt.title(f\"Label: {y_train[i-1]}\")\n",
    "    plt.axis('off')\n",
    "\n",
    "plt.tight_layout()"
   ]
  },
  {
   "cell_type": "code",
   "execution_count": 11,
   "id": "10d8ebce-5d7e-47f2-b1e2-757ed2efad0a",
   "metadata": {},
   "outputs": [
    {
     "data": {
      "text/plain": [
       "array([0.        , 0.125     , 0.375     , 0.9375    , 0.75      ,\n",
       "       0.0625    , 0.        , 0.        , 0.        , 0.46666667,\n",
       "       1.        , 0.375     , 0.375     , 0.625     , 0.        ,\n",
       "       0.        , 0.        , 0.5       , 1.        , 0.125     ,\n",
       "       0.        , 0.6875    , 0.125     , 0.        , 0.        ,\n",
       "       0.3125    , 1.        , 0.1875    , 0.        , 0.3125    ,\n",
       "       0.4375    , 0.        , 0.        , 0.46666667, 0.8125    ,\n",
       "       0.1875    , 0.        , 0.5       , 0.5       , 0.        ,\n",
       "       0.        , 0.25      , 0.75      , 0.        , 0.0625    ,\n",
       "       0.8125    , 0.3125    , 0.        , 0.        , 0.        ,\n",
       "       0.875     , 0.5625    , 0.9375    , 0.5625    , 0.        ,\n",
       "       0.        , 0.        , 0.        , 0.375     , 0.875     ,\n",
       "       0.4375    , 0.0625    , 0.        , 0.        ])"
      ]
     },
     "execution_count": 11,
     "metadata": {},
     "output_type": "execute_result"
    }
   ],
   "source": [
    "#0-1归一化\n",
    "from sklearn.preprocessing import MinMaxScaler\n",
    "scaler = MinMaxScaler()\n",
    "X3_train = scaler.fit_transform(X_train)\n",
    "X3_test = scaler.fit_transform(X_test)\n",
    "\n",
    "X3_train[0]"
   ]
  },
  {
   "cell_type": "code",
   "execution_count": 12,
   "id": "caf7cde4-180c-42c3-962f-5fbbe356b55a",
   "metadata": {},
   "outputs": [
    {
     "data": {
      "image/png": "[encoded data removed]",
      "text/plain": [
       "<Figure size 800x400 with 12 Axes>"
      ]
     },
     "metadata": {},
     "output_type": "display_data"
    }
   ],
   "source": [
    "#输出图像\n",
    "plt.figure(figsize=(8, 4))\n",
    "for i in range(1, 13):\n",
    "    plt.subplot(3, 4, i)\n",
    "    plt.imshow(X3_train[i-1].reshape(8, 8), cmap='gray')\n",
    "    plt.title(f\"Label: {y_train[i-1]}\")\n",
    "    plt.axis('off')\n",
    "\n",
    "plt.tight_layout()"
   ]
  },
  {
   "cell_type": "markdown",
   "id": "569515fb-6c56-4732-a640-50a415b46622",
   "metadata": {},
   "source": [
    "## 2.KNN"
   ]
  },
  {
   "cell_type": "markdown",
   "id": "9fb2c94e-87a4-4479-bb7d-0583cacad026",
   "metadata": {},
   "source": [
    "（1）二值化："
   ]
  },
  {
   "cell_type": "code",
   "execution_count": 13,
   "id": "13a7fcae-4dae-444a-b7a2-ea69c92f8417",
   "metadata": {},
   "outputs": [],
   "source": [
    "from sklearn.neighbors import KNeighborsClassifier\n",
    "from sklearn.model_selection import cross_val_score\n",
    "\n",
    "k_list = list(range(1,50,2))\n",
    "cv_score = []\n",
    "\n",
    "for k in k_list:\n",
    "    Knn = KNeighborsClassifier(n_neighbors=k)\n",
    "    scores = cross_val_score(Knn,X1_train,y_train,cv=kf,scoring='accuracy')\n",
    "    cv_score.append(scores.mean())"
   ]
  },
  {
   "cell_type": "code",
   "execution_count": 14,
   "id": "f747d439-30ff-4617-877f-cf08e7d9cc15",
   "metadata": {},
   "outputs": [
    {
     "data": {
      "text/plain": [
       "[<matplotlib.lines.Line2D at 0x1d416c1b490>]"
      ]
     },
     "execution_count": 14,
     "metadata": {},
     "output_type": "execute_result"
    },
    {
     "data": {
      "text/plain": [
       "<Figure size 640x480 with 0 Axes>"
      ]
     },
     "metadata": {},
     "output_type": "display_data"
    },
    {
     "data": {
      "image/png": "[encoded data removed]",
      "text/plain": [
       "<Figure size 1000x400 with 1 Axes>"
      ]
     },
     "metadata": {},
     "output_type": "display_data"
    }
   ],
   "source": [
    "#可视化误分率\n",
    "import seaborn as sns\n",
    "MSE = [1 - x for x in cv_score]\n",
    "\n",
    "plt.figure()\n",
    "plt.figure(figsize=(10,4))\n",
    "\n",
    "plt.title('The optimal number of neighbors', fontsize=15, fontweight='bold')\n",
    "\n",
    "plt.xlabel('k',fontsize=10)\n",
    "plt.ylabel('Misclassification Error',fontsize=10)\n",
    "\n",
    "sns.set_style('whitegrid')\n",
    "plt.plot(k_list,MSE)"
   ]
  },
  {
   "cell_type": "code",
   "execution_count": 15,
   "id": "1c08c8eb-06fa-4345-b5c1-e71790990576",
   "metadata": {},
   "outputs": [
    {
     "name": "stdout",
     "output_type": "stream",
     "text": [
      "最优近邻数k为：7\n"
     ]
    }
   ],
   "source": [
    "best_k = k_list[MSE.index(min(MSE))]\n",
    "print(\"最优近邻数k为：%d\" % best_k)"
   ]
  },
  {
   "cell_type": "code",
   "execution_count": 16,
   "id": "fa9a08f3-ca69-4954-8214-1158b1366f59",
   "metadata": {},
   "outputs": [
    {
     "name": "stdout",
     "output_type": "stream",
     "text": [
      "\n",
      "在测试集上的准确率：0.9087367835281024\n",
      "              precision    recall  f1-score   support\n",
      "\n",
      "           0       0.98      0.99      0.99       178\n",
      "           1       0.72      0.96      0.82       182\n",
      "           2       0.97      0.90      0.93       177\n",
      "           3       0.91      0.89      0.90       183\n",
      "           4       0.95      0.96      0.95       181\n",
      "           5       0.96      0.93      0.95       182\n",
      "           6       0.98      0.97      0.98       181\n",
      "           7       0.99      0.90      0.94       179\n",
      "           8       0.82      0.72      0.76       174\n",
      "           9       0.88      0.86      0.87       180\n",
      "\n",
      "    accuracy                           0.91      1797\n",
      "   macro avg       0.91      0.91      0.91      1797\n",
      "weighted avg       0.91      0.91      0.91      1797\n",
      "\n"
     ]
    }
   ],
   "source": [
    "best_knn = KNeighborsClassifier(n_neighbors=best_k)\n",
    "best_knn.fit(X1_train, y_train)\n",
    "\n",
    "accuracy = best_knn.score(X1_test, y_test)\n",
    "print(f\"\\n在测试集上的准确率：{accuracy}\")\n",
    "\n",
    "y_pred = best_knn.predict(X1_test)\n",
    "report = classification_report(y_test, y_pred)\n",
    "\n",
    "print(report)"
   ]
  },
  {
   "cell_type": "markdown",
   "id": "cb6b7233-094e-477a-9673-0714363a78e7",
   "metadata": {},
   "source": [
    "（2）标准化："
   ]
  },
  {
   "cell_type": "code",
   "execution_count": 17,
   "id": "86f8f8ef-5c86-4558-8497-a953fd9f90e5",
   "metadata": {},
   "outputs": [
    {
     "data": {
      "text/plain": [
       "[<matplotlib.lines.Line2D at 0x1d416bd4d90>]"
      ]
     },
     "execution_count": 17,
     "metadata": {},
     "output_type": "execute_result"
    },
    {
     "data": {
      "text/plain": [
       "<Figure size 640x480 with 0 Axes>"
      ]
     },
     "metadata": {},
     "output_type": "display_data"
    },
    {
     "data": {
      "image/png": "[encoded data removed]",
      "text/plain": [
       "<Figure size 1000x400 with 1 Axes>"
      ]
     },
     "metadata": {},
     "output_type": "display_data"
    }
   ],
   "source": [
    "k_list = list(range(1,50,2))\n",
    "cv_score = []\n",
    "\n",
    "for k in k_list:\n",
    "    Knn = KNeighborsClassifier(n_neighbors=k)\n",
    "    scores = cross_val_score(Knn,X2_train,y_train,cv=kf,scoring='accuracy')\n",
    "    cv_score.append(scores.mean())\n",
    "\n",
    "#可视化误分率\n",
    "import seaborn as sns\n",
    "MSE1 = [1 - x for x in cv_score]\n",
    "\n",
    "plt.figure()\n",
    "plt.figure(figsize=(10,4))\n",
    "\n",
    "plt.title('The optimal number of neighbors', fontsize=15, fontweight='bold')\n",
    "\n",
    "plt.xlabel('k',fontsize=10)\n",
    "plt.ylabel('Misclassification Error',fontsize=10)\n",
    "\n",
    "sns.set_style('whitegrid')\n",
    "plt.plot(k_list,MSE1)"
   ]
  },
  {
   "cell_type": "code",
   "execution_count": 18,
   "id": "66cf2790-eb2a-4102-add3-a949ff74e76b",
   "metadata": {},
   "outputs": [
    {
     "name": "stdout",
     "output_type": "stream",
     "text": [
      "最优近邻数k为：1\n"
     ]
    }
   ],
   "source": [
    "best_k = k_list[MSE1.index(min(MSE1))]\n",
    "print(\"最优近邻数k为：%d\" % best_k)"
   ]
  },
  {
   "cell_type": "code",
   "execution_count": 19,
   "id": "dbc089b8-e946-4995-b71c-6f8907cd4f6d",
   "metadata": {},
   "outputs": [
    {
     "name": "stdout",
     "output_type": "stream",
     "text": [
      "\n",
      "在测试集上的准确率：0.9643850862548692\n",
      "              precision    recall  f1-score   support\n",
      "\n",
      "           0       1.00      1.00      1.00       178\n",
      "           1       0.91      0.98      0.94       182\n",
      "           2       0.97      0.95      0.96       177\n",
      "           3       0.96      0.96      0.96       183\n",
      "           4       0.99      0.97      0.98       181\n",
      "           5       0.95      0.98      0.97       182\n",
      "           6       0.99      1.00      1.00       181\n",
      "           7       0.97      0.97      0.97       179\n",
      "           8       0.93      0.90      0.92       174\n",
      "           9       0.96      0.92      0.94       180\n",
      "\n",
      "    accuracy                           0.96      1797\n",
      "   macro avg       0.96      0.96      0.96      1797\n",
      "weighted avg       0.96      0.96      0.96      1797\n",
      "\n"
     ]
    }
   ],
   "source": [
    "best_knn = KNeighborsClassifier(n_neighbors=best_k)\n",
    "best_knn.fit(X2_train, y_train)\n",
    "\n",
    "accuracy = best_knn.score(X2_test, y_test)\n",
    "print(f\"\\n在测试集上的准确率：{accuracy}\")\n",
    "\n",
    "y_pred = best_knn.predict(X2_test)\n",
    "report = classification_report(y_test, y_pred)\n",
    "\n",
    "print(report)"
   ]
  },
  {
   "cell_type": "markdown",
   "id": "b2f7f6af-343f-40f1-a7b3-ef1e1b122cb1",
   "metadata": {},
   "source": [
    "（3）归一化："
   ]
  },
  {
   "cell_type": "code",
   "execution_count": 20,
   "id": "072b6ecb-7c77-46c8-978a-498268a2805d",
   "metadata": {},
   "outputs": [
    {
     "data": {
      "text/plain": [
       "[<matplotlib.lines.Line2D at 0x1d4163796f0>]"
      ]
     },
     "execution_count": 20,
     "metadata": {},
     "output_type": "execute_result"
    },
    {
     "data": {
      "text/plain": [
       "<Figure size 640x480 with 0 Axes>"
      ]
     },
     "metadata": {},
     "output_type": "display_data"
    },
    {
     "data": {
      "image/png": "[encoded data removed]",
      "text/plain": [
       "<Figure size 1000x400 with 1 Axes>"
      ]
     },
     "metadata": {},
     "output_type": "display_data"
    }
   ],
   "source": [
    "k_list = list(range(1,50,2))\n",
    "cv_score = []\n",
    "\n",
    "for k in k_list:\n",
    "    Knn = KNeighborsClassifier(n_neighbors=k)\n",
    "    scores = cross_val_score(Knn,X3_train,y_train,cv=kf,scoring='accuracy')\n",
    "    cv_score.append(scores.mean())\n",
    "\n",
    "#可视化误分率\n",
    "import seaborn as sns\n",
    "MSE2 = [1 - x for x in cv_score]\n",
    "\n",
    "plt.figure()\n",
    "plt.figure(figsize=(10,4))\n",
    "\n",
    "plt.title('The optimal number of neighbors', fontsize=15, fontweight='bold')\n",
    "\n",
    "plt.xlabel('k',fontsize=10)\n",
    "plt.ylabel('Misclassification Error',fontsize=10)\n",
    "\n",
    "sns.set_style('whitegrid')\n",
    "plt.plot(k_list,MSE2)"
   ]
  },
  {
   "cell_type": "code",
   "execution_count": 21,
   "id": "eed94137-ea1d-46ae-889c-81a419b4248c",
   "metadata": {},
   "outputs": [
    {
     "name": "stdout",
     "output_type": "stream",
     "text": [
      "最优近邻数k为：3\n"
     ]
    }
   ],
   "source": [
    "best_k = k_list[MSE2.index(min(MSE2))]\n",
    "print(\"最优近邻数k为：%d\" % best_k)"
   ]
  },
  {
   "cell_type": "code",
   "execution_count": 22,
   "id": "a5f6463e-de0f-4453-86d3-81e5d065580c",
   "metadata": {},
   "outputs": [
    {
     "name": "stdout",
     "output_type": "stream",
     "text": [
      "\n",
      "在测试集上的准确率：0.9788536449638287\n",
      "              precision    recall  f1-score   support\n",
      "\n",
      "           0       1.00      1.00      1.00       178\n",
      "           1       0.92      0.99      0.95       182\n",
      "           2       1.00      0.98      0.99       177\n",
      "           3       0.97      0.99      0.98       183\n",
      "           4       0.99      0.98      0.99       181\n",
      "           5       0.99      0.98      0.99       182\n",
      "           6       0.99      1.00      1.00       181\n",
      "           7       0.99      0.97      0.98       179\n",
      "           8       0.97      0.93      0.95       174\n",
      "           9       0.96      0.97      0.96       180\n",
      "\n",
      "    accuracy                           0.98      1797\n",
      "   macro avg       0.98      0.98      0.98      1797\n",
      "weighted avg       0.98      0.98      0.98      1797\n",
      "\n"
     ]
    }
   ],
   "source": [
    "best_knn = KNeighborsClassifier(n_neighbors = best_k)\n",
    "best_knn.fit(X3_train, y_train)\n",
    "\n",
    "accuracy = best_knn.score(X3_test, y_test)\n",
    "print(f\"\\n在测试集上的准确率：{accuracy}\")\n",
    "\n",
    "y_pred = best_knn.predict(X3_test)\n",
    "report = classification_report(y_test, y_pred)\n",
    "\n",
    "print(report)"
   ]
  },
  {
   "cell_type": "markdown",
   "id": "bd227309-6239-425d-a013-99da46cebf9a",
   "metadata": {},
   "source": [
    "（4）原数据"
   ]
  },
  {
   "cell_type": "code",
   "execution_count": 23,
   "id": "cdccd631-a8ec-4f64-b9bf-64cb3f545cc6",
   "metadata": {},
   "outputs": [
    {
     "data": {
      "text/plain": [
       "[<matplotlib.lines.Line2D at 0x1d416cd7a90>]"
      ]
     },
     "execution_count": 23,
     "metadata": {},
     "output_type": "execute_result"
    },
    {
     "data": {
      "text/plain": [
       "<Figure size 640x480 with 0 Axes>"
      ]
     },
     "metadata": {},
     "output_type": "display_data"
    },
    {
     "data": {
      "image/png": "[encoded data removed]",
      "text/plain": [
       "<Figure size 1000x400 with 1 Axes>"
      ]
     },
     "metadata": {},
     "output_type": "display_data"
    }
   ],
   "source": [
    "k_list = list(range(1,50,2))\n",
    "cv_score = []\n",
    "\n",
    "for k in k_list:\n",
    "    Knn = KNeighborsClassifier(n_neighbors=k)\n",
    "    scores = cross_val_score(Knn,X_train,y_train,cv=kf,scoring='accuracy')\n",
    "    cv_score.append(scores.mean())\n",
    "\n",
    "#可视化误分率\n",
    "import seaborn as sns\n",
    "MSE3 = [1 - x for x in cv_score]\n",
    "\n",
    "plt.figure()\n",
    "plt.figure(figsize=(10,4))\n",
    "\n",
    "plt.title('The optimal number of neighbors', fontsize=15, fontweight='bold')\n",
    "\n",
    "plt.xlabel('k',fontsize=10)\n",
    "plt.ylabel('Misclassification Error',fontsize=10)\n",
    "\n",
    "sns.set_style('whitegrid')\n",
    "plt.plot(k_list,MSE3)"
   ]
  },
  {
   "cell_type": "code",
   "execution_count": 24,
   "id": "9d88d202-80d0-4441-8049-a12b2de9f75e",
   "metadata": {},
   "outputs": [
    {
     "name": "stdout",
     "output_type": "stream",
     "text": [
      "最优近邻数k为：3\n"
     ]
    },
    {
     "data": {
      "text/plain": [
       "0.9845676350819559"
      ]
     },
     "execution_count": 24,
     "metadata": {},
     "output_type": "execute_result"
    }
   ],
   "source": [
    "best_k = k_list[MSE3.index(min(MSE3))]\n",
    "print(\"最优近邻数k为：%d\" % best_k)\n",
    "\n",
    "1-min(MSE3)"
   ]
  },
  {
   "cell_type": "code",
   "execution_count": 25,
   "id": "59b9e183-ab09-4ead-89c4-b913915c0c8f",
   "metadata": {},
   "outputs": [
    {
     "name": "stdout",
     "output_type": "stream",
     "text": [
      "\n",
      "在测试集上的准确率：0.9782971619365609\n",
      "在测试集上的评估报告：\n",
      "              precision    recall  f1-score   support\n",
      "\n",
      "           0       1.00      1.00      1.00       178\n",
      "           1       0.92      0.99      0.95       182\n",
      "           2       1.00      0.98      0.99       177\n",
      "           3       0.97      0.99      0.98       183\n",
      "           4       0.99      0.98      0.99       181\n",
      "           5       0.99      0.98      0.99       182\n",
      "           6       0.99      1.00      1.00       181\n",
      "           7       0.99      0.96      0.98       179\n",
      "           8       0.97      0.93      0.95       174\n",
      "           9       0.95      0.97      0.96       180\n",
      "\n",
      "    accuracy                           0.98      1797\n",
      "   macro avg       0.98      0.98      0.98      1797\n",
      "weighted avg       0.98      0.98      0.98      1797\n",
      "\n"
     ]
    }
   ],
   "source": [
    "best_knn = KNeighborsClassifier(n_neighbors = best_k)\n",
    "best_knn.fit(X_train, y_train)\n",
    "\n",
    "accuracy = best_knn.score(X_test, y_test)\n",
    "print(f\"\\n在测试集上的准确率：{accuracy}\")\n",
    "\n",
    "y_pred = best_knn.predict(X_test)\n",
    "report = classification_report(y_test, y_pred)\n",
    "\n",
    "print(f\"在测试集上的评估报告：\\n{report}\")"
   ]
  },
  {
   "cell_type": "markdown",
   "id": "13c34c94-7e00-4315-8eb7-377aa7caaf5e",
   "metadata": {},
   "source": [
    "这里不得不说一下，这个optdigits数据集的原数据集好像效果比较好，二值化的效果居然是最差\n",
    "\n",
    "后续的模型将只采用原数据。"
   ]
  },
  {
   "cell_type": "markdown",
   "id": "1f5d2b3e-3fb6-4ccc-adf2-c13057666cee",
   "metadata": {},
   "source": [
    "## 3.SVM"
   ]
  },
  {
   "cell_type": "markdown",
   "id": "29811521-b1ae-4b91-a589-336066e97573",
   "metadata": {},
   "source": [
    "（1）线性核："
   ]
  },
  {
   "cell_type": "code",
   "execution_count": 26,
   "id": "2320f92f-6072-4870-9b77-47bbf4bfbfa4",
   "metadata": {},
   "outputs": [
    {
     "name": "stdout",
     "output_type": "stream",
     "text": [
      "每次交叉验证的准确率：\n",
      "{'C': 0.1}: 0.9793\n",
      "{'C': 1}: 0.9796\n",
      "{'C': 10}: 0.9796\n",
      "{'C': 100}: 0.9796\n",
      "\n",
      "最佳的超参数：{'C': 1}\n",
      "\n",
      "在测试集上的准确率：0.9610461880912632\n",
      "在测试集上的评估报告：\n",
      "              precision    recall  f1-score   support\n",
      "\n",
      "           0       0.99      0.99      0.99       178\n",
      "           1       0.92      0.98      0.95       182\n",
      "           2       0.96      0.96      0.96       177\n",
      "           3       0.95      0.93      0.94       183\n",
      "           4       0.98      0.99      0.99       181\n",
      "           5       0.92      0.99      0.95       182\n",
      "           6       0.98      0.99      0.99       181\n",
      "           7       0.99      0.92      0.95       179\n",
      "           8       0.97      0.90      0.93       174\n",
      "           9       0.96      0.94      0.95       180\n",
      "\n",
      "    accuracy                           0.96      1797\n",
      "   macro avg       0.96      0.96      0.96      1797\n",
      "weighted avg       0.96      0.96      0.96      1797\n",
      "\n"
     ]
    }
   ],
   "source": [
    "from sklearn.svm import SVC #SVC是分类，用于回归的是SVR\n",
    "\n",
    "\n",
    "# 初始化SVM模型，使用线性核\n",
    "svm = SVC(kernel='linear')\n",
    "\n",
    "# 定义超参数搜索范围\n",
    "param_grid = {'C': [0.1, 1, 10, 100]}\n",
    "\n",
    "# 使用GridSearchCV进行交叉验证寻找最佳的超参数\n",
    "grid_search = GridSearchCV(svm, param_grid, cv=kf, scoring='accuracy')\n",
    "grid_search.fit(X_train, y_train)\n",
    "\n",
    "# 获取每次交叉验证的准确率\n",
    "cv_results = grid_search.cv_results_\n",
    "accuracies = cv_results['mean_test_score']\n",
    "print(\"每次交叉验证的准确率：\")\n",
    "for params, acc in zip(cv_results['params'], accuracies):\n",
    "    print(f\"{params}: {acc:.4f}\")\n",
    "\n",
    "# 打印最佳的超参数\n",
    "best_params = grid_search.best_params_\n",
    "print(f\"\\n最佳的超参数：{best_params}\")\n",
    "\n",
    "# 使用最佳的超参数训练SVM模型\n",
    "best_svm = SVC(kernel='linear', C=best_params['C'])\n",
    "best_svm.fit(X_train, y_train)\n",
    "\n",
    "# 在测试集上评估模型性能\n",
    "accuracy = best_svm.score(X_test, y_test)\n",
    "print(f\"\\n在测试集上的准确率：{accuracy}\")\n",
    "\n",
    "y_pred = best_svm.predict(X_test)\n",
    "report = classification_report(y_test, y_pred)\n",
    "\n",
    "print(f\"在测试集上的评估报告：\\n{report}\")"
   ]
  },
  {
   "cell_type": "markdown",
   "id": "b6af0aa5-ba84-449e-b5ec-2b5e02d6d825",
   "metadata": {},
   "source": [
    "（2）高斯核："
   ]
  },
  {
   "cell_type": "code",
   "execution_count": 27,
   "id": "1ff3a1a3-43f4-4a53-981d-d12e644c5bfa",
   "metadata": {},
   "outputs": [
    {
     "name": "stdout",
     "output_type": "stream",
     "text": [
      "每次交叉验证的准确率：\n",
      "{'C': 0.1, 'gamma': 0.001}: 0.9775\n",
      "{'C': 0.1, 'gamma': 0.01}: 0.0868\n",
      "{'C': 0.1, 'gamma': 0.1}: 0.0829\n",
      "{'C': 0.1, 'gamma': 1}: 0.0829\n",
      "{'C': 1, 'gamma': 0.001}: 0.9895\n",
      "{'C': 1, 'gamma': 0.01}: 0.8253\n",
      "{'C': 1, 'gamma': 0.1}: 0.0832\n",
      "{'C': 1, 'gamma': 1}: 0.0829\n",
      "{'C': 10, 'gamma': 0.001}: 0.9908\n",
      "{'C': 10, 'gamma': 0.01}: 0.8365\n",
      "{'C': 10, 'gamma': 0.1}: 0.0832\n",
      "{'C': 10, 'gamma': 1}: 0.0829\n",
      "{'C': 100, 'gamma': 0.001}: 0.9908\n",
      "{'C': 100, 'gamma': 0.01}: 0.8365\n",
      "{'C': 100, 'gamma': 0.1}: 0.0832\n",
      "{'C': 100, 'gamma': 1}: 0.0829\n",
      "\n",
      "最佳的超参数：{'C': 10, 'gamma': 0.001}\n",
      "\n",
      "在测试集上的准确率：0.9827490261547023\n",
      "在测试集上的评估报告：\n",
      "              precision    recall  f1-score   support\n",
      "\n",
      "           0       0.99      1.00      1.00       178\n",
      "           1       0.96      0.99      0.98       182\n",
      "           2       1.00      0.98      0.99       177\n",
      "           3       0.98      0.98      0.98       183\n",
      "           4       1.00      1.00      1.00       181\n",
      "           5       0.98      0.99      0.98       182\n",
      "           6       1.00      0.99      1.00       181\n",
      "           7       0.99      0.96      0.97       179\n",
      "           8       0.98      0.95      0.97       174\n",
      "           9       0.94      0.98      0.96       180\n",
      "\n",
      "    accuracy                           0.98      1797\n",
      "   macro avg       0.98      0.98      0.98      1797\n",
      "weighted avg       0.98      0.98      0.98      1797\n",
      "\n"
     ]
    }
   ],
   "source": [
    "# 初始化SVM模型\n",
    "svm = SVC()\n",
    "# 定义超参数搜索范围\n",
    "param_grid = {'C': [0.1, 1, 10, 100], 'gamma': [0.001, 0.01, 0.1, 1]}\n",
    "\n",
    "# 使用GridSearchCV进行交叉验证寻找最佳的超参数\n",
    "grid_search = GridSearchCV(svm, param_grid, cv=kf, scoring='accuracy')\n",
    "grid_search.fit(X_train, y_train)\n",
    "\n",
    "# 获取每次交叉验证的准确率\n",
    "cv_results = grid_search.cv_results_\n",
    "accuracies = cv_results['mean_test_score']\n",
    "print(\"每次交叉验证的准确率：\")\n",
    "for params, acc in zip(cv_results['params'], accuracies):\n",
    "    print(f\"{params}: {acc:.4f}\")\n",
    "\n",
    "# 打印最佳的超参数\n",
    "best_params = grid_search.best_params_\n",
    "print(f\"\\n最佳的超参数：{best_params}\")\n",
    "\n",
    "# 使用最佳的超参数训练SVM模型\n",
    "best_svm = SVC(C=best_params['C'], gamma=best_params['gamma'])\n",
    "best_svm.fit(X_train, y_train)\n",
    "\n",
    "# 在测试集上评估模型性能\n",
    "accuracy = best_svm.score(X_test, y_test)\n",
    "print(f\"\\n在测试集上的准确率：{accuracy}\")\n",
    "\n",
    "y_pred = best_svm.predict(X_test)\n",
    "report = classification_report(y_test, y_pred)\n",
    "\n",
    "print(f\"在测试集上的评估报告：\\n{report}\")"
   ]
  },
  {
   "cell_type": "markdown",
   "id": "d1d2c3a4-7e32-4758-9431-9e8bab0b7484",
   "metadata": {},
   "source": [
    "(3)多项式核"
   ]
  },
  {
   "cell_type": "code",
   "execution_count": 28,
   "id": "fe88fbd2-32f8-4d4a-83b5-c5f78fc23cf4",
   "metadata": {},
   "outputs": [
    {
     "name": "stdout",
     "output_type": "stream",
     "text": [
      "每次交叉验证后的准确率：\n",
      "{'C': 0.1, 'degree': 2}: 0.9770\n",
      "{'C': 0.1, 'degree': 3}: 0.9848\n",
      "{'C': 0.1, 'degree': 4}: 0.9869\n",
      "{'C': 0.1, 'degree': 5}: 0.9877\n",
      "{'C': 1, 'degree': 2}: 0.9885\n",
      "{'C': 1, 'degree': 3}: 0.9898\n",
      "{'C': 1, 'degree': 4}: 0.9895\n",
      "{'C': 1, 'degree': 5}: 0.9888\n",
      "{'C': 10, 'degree': 2}: 0.9880\n",
      "{'C': 10, 'degree': 3}: 0.9888\n",
      "{'C': 10, 'degree': 4}: 0.9895\n",
      "{'C': 10, 'degree': 5}: 0.9888\n",
      "{'C': 100, 'degree': 2}: 0.9885\n",
      "{'C': 100, 'degree': 3}: 0.9888\n",
      "{'C': 100, 'degree': 4}: 0.9895\n",
      "{'C': 100, 'degree': 5}: 0.9888\n",
      "\n",
      "最佳的超参数：{'C': 1, 'degree': 3}\n",
      "\n",
      "在测试集上的准确率：0.9755147468002225\n",
      "在测试集上的评估报告：\n",
      "              precision    recall  f1-score   support\n",
      "\n",
      "           0       1.00      0.99      1.00       178\n",
      "           1       0.97      0.99      0.98       182\n",
      "           2       0.99      0.99      0.99       177\n",
      "           3       0.97      0.96      0.96       183\n",
      "           4       0.99      0.99      0.99       181\n",
      "           5       0.95      0.99      0.97       182\n",
      "           6       1.00      0.99      1.00       181\n",
      "           7       0.98      0.93      0.96       179\n",
      "           8       0.97      0.94      0.96       174\n",
      "           9       0.93      0.96      0.94       180\n",
      "\n",
      "    accuracy                           0.98      1797\n",
      "   macro avg       0.98      0.98      0.98      1797\n",
      "weighted avg       0.98      0.98      0.98      1797\n",
      "\n"
     ]
    }
   ],
   "source": [
    "# 初始化SVM模型，使用多项式核\n",
    "svm = SVC(kernel='poly')\n",
    "\n",
    "# 定义超参数搜索范围\n",
    "param_grid = {'C': [0.1, 1, 10, 100], 'degree': [2, 3, 4, 5]}\n",
    "\n",
    "# 使用GridSearchCV进行交叉验证寻找最佳的超参数\n",
    "grid_search = GridSearchCV(svm, param_grid, cv=kf, scoring='accuracy')\n",
    "grid_search.fit(X_train, y_train)\n",
    "\n",
    "# 获取每次交叉验证的准确率\n",
    "cv_results = grid_search.cv_results_\n",
    "accuracies = cv_results['mean_test_score']\n",
    "print(\"每次交叉验证后的准确率：\")\n",
    "for params, acc in zip(cv_results['params'], accuracies):\n",
    "    print(f\"{params}: {acc:.4f}\")\n",
    "\n",
    "# 打印最佳的超参数\n",
    "best_params = grid_search.best_params_\n",
    "print(f\"\\n最佳的超参数：{best_params}\")\n",
    "\n",
    "# 使用最佳的超参数训练SVM模型\n",
    "best_svm = SVC(kernel='poly', C=best_params['C'], degree=best_params['degree'])\n",
    "best_svm.fit(X_train, y_train)\n",
    "\n",
    "# 在测试集上评估模型性能\n",
    "accuracy = best_svm.score(X_test, y_test)\n",
    "print(f\"\\n在测试集上的准确率：{accuracy}\")\n",
    "\n",
    "y_pred = best_svm.predict(X_test)\n",
    "report = classification_report(y_test, y_pred)\n",
    "\n",
    "print(f\"在测试集上的评估报告：\\n{report}\")"
   ]
  },
  {
   "cell_type": "markdown",
   "id": "cf84a6a1-ab7b-4d96-aedf-1520eebada28",
   "metadata": {},
   "source": [
    "## 4.随机森林"
   ]
  },
  {
   "cell_type": "code",
   "execution_count": 29,
   "id": "b8d198bc-6da7-4bc0-ab27-6a6e9ae1f1cc",
   "metadata": {},
   "outputs": [
    {
     "name": "stdout",
     "output_type": "stream",
     "text": [
      "每次交叉验证的准确率：\n",
      "{'max_depth': None, 'min_samples_leaf': 1, 'min_samples_split': 2, 'n_estimators': 50}: 0.9793\n",
      "{'max_depth': None, 'min_samples_leaf': 1, 'min_samples_split': 2, 'n_estimators': 100}: 0.9796\n",
      "{'max_depth': None, 'min_samples_leaf': 1, 'min_samples_split': 2, 'n_estimators': 200}: 0.9809\n",
      "{'max_depth': None, 'min_samples_leaf': 1, 'min_samples_split': 5, 'n_estimators': 50}: 0.9783\n",
      "{'max_depth': None, 'min_samples_leaf': 1, 'min_samples_split': 5, 'n_estimators': 100}: 0.9788\n",
      "{'max_depth': None, 'min_samples_leaf': 1, 'min_samples_split': 5, 'n_estimators': 200}: 0.9796\n",
      "{'max_depth': None, 'min_samples_leaf': 1, 'min_samples_split': 10, 'n_estimators': 50}: 0.9725\n",
      "{'max_depth': None, 'min_samples_leaf': 1, 'min_samples_split': 10, 'n_estimators': 100}: 0.9778\n",
      "{'max_depth': None, 'min_samples_leaf': 1, 'min_samples_split': 10, 'n_estimators': 200}: 0.9793\n",
      "{'max_depth': None, 'min_samples_leaf': 2, 'min_samples_split': 2, 'n_estimators': 50}: 0.9754\n",
      "{'max_depth': None, 'min_samples_leaf': 2, 'min_samples_split': 2, 'n_estimators': 100}: 0.9775\n",
      "{'max_depth': None, 'min_samples_leaf': 2, 'min_samples_split': 2, 'n_estimators': 200}: 0.9799\n",
      "{'max_depth': None, 'min_samples_leaf': 2, 'min_samples_split': 5, 'n_estimators': 50}: 0.9754\n",
      "{'max_depth': None, 'min_samples_leaf': 2, 'min_samples_split': 5, 'n_estimators': 100}: 0.9767\n",
      "{'max_depth': None, 'min_samples_leaf': 2, 'min_samples_split': 5, 'n_estimators': 200}: 0.9793\n",
      "{'max_depth': None, 'min_samples_leaf': 2, 'min_samples_split': 10, 'n_estimators': 50}: 0.9759\n",
      "{'max_depth': None, 'min_samples_leaf': 2, 'min_samples_split': 10, 'n_estimators': 100}: 0.9778\n",
      "{'max_depth': None, 'min_samples_leaf': 2, 'min_samples_split': 10, 'n_estimators': 200}: 0.9780\n",
      "{'max_depth': None, 'min_samples_leaf': 4, 'min_samples_split': 2, 'n_estimators': 50}: 0.9741\n",
      "{'max_depth': None, 'min_samples_leaf': 4, 'min_samples_split': 2, 'n_estimators': 100}: 0.9752\n",
      "{'max_depth': None, 'min_samples_leaf': 4, 'min_samples_split': 2, 'n_estimators': 200}: 0.9757\n",
      "{'max_depth': None, 'min_samples_leaf': 4, 'min_samples_split': 5, 'n_estimators': 50}: 0.9702\n",
      "{'max_depth': None, 'min_samples_leaf': 4, 'min_samples_split': 5, 'n_estimators': 100}: 0.9746\n",
      "{'max_depth': None, 'min_samples_leaf': 4, 'min_samples_split': 5, 'n_estimators': 200}: 0.9778\n",
      "{'max_depth': None, 'min_samples_leaf': 4, 'min_samples_split': 10, 'n_estimators': 50}: 0.9728\n",
      "{'max_depth': None, 'min_samples_leaf': 4, 'min_samples_split': 10, 'n_estimators': 100}: 0.9757\n",
      "{'max_depth': None, 'min_samples_leaf': 4, 'min_samples_split': 10, 'n_estimators': 200}: 0.9759\n",
      "{'max_depth': 10, 'min_samples_leaf': 1, 'min_samples_split': 2, 'n_estimators': 50}: 0.9741\n",
      "{'max_depth': 10, 'min_samples_leaf': 1, 'min_samples_split': 2, 'n_estimators': 100}: 0.9770\n",
      "{'max_depth': 10, 'min_samples_leaf': 1, 'min_samples_split': 2, 'n_estimators': 200}: 0.9785\n",
      "{'max_depth': 10, 'min_samples_leaf': 1, 'min_samples_split': 5, 'n_estimators': 50}: 0.9741\n",
      "{'max_depth': 10, 'min_samples_leaf': 1, 'min_samples_split': 5, 'n_estimators': 100}: 0.9770\n",
      "{'max_depth': 10, 'min_samples_leaf': 1, 'min_samples_split': 5, 'n_estimators': 200}: 0.9780\n",
      "{'max_depth': 10, 'min_samples_leaf': 1, 'min_samples_split': 10, 'n_estimators': 50}: 0.9728\n",
      "{'max_depth': 10, 'min_samples_leaf': 1, 'min_samples_split': 10, 'n_estimators': 100}: 0.9762\n",
      "{'max_depth': 10, 'min_samples_leaf': 1, 'min_samples_split': 10, 'n_estimators': 200}: 0.9778\n",
      "{'max_depth': 10, 'min_samples_leaf': 2, 'min_samples_split': 2, 'n_estimators': 50}: 0.9772\n",
      "{'max_depth': 10, 'min_samples_leaf': 2, 'min_samples_split': 2, 'n_estimators': 100}: 0.9778\n",
      "{'max_depth': 10, 'min_samples_leaf': 2, 'min_samples_split': 2, 'n_estimators': 200}: 0.9770\n",
      "{'max_depth': 10, 'min_samples_leaf': 2, 'min_samples_split': 5, 'n_estimators': 50}: 0.9733\n",
      "{'max_depth': 10, 'min_samples_leaf': 2, 'min_samples_split': 5, 'n_estimators': 100}: 0.9733\n",
      "{'max_depth': 10, 'min_samples_leaf': 2, 'min_samples_split': 5, 'n_estimators': 200}: 0.9767\n",
      "{'max_depth': 10, 'min_samples_leaf': 2, 'min_samples_split': 10, 'n_estimators': 50}: 0.9725\n",
      "{'max_depth': 10, 'min_samples_leaf': 2, 'min_samples_split': 10, 'n_estimators': 100}: 0.9780\n",
      "{'max_depth': 10, 'min_samples_leaf': 2, 'min_samples_split': 10, 'n_estimators': 200}: 0.9757\n",
      "{'max_depth': 10, 'min_samples_leaf': 4, 'min_samples_split': 2, 'n_estimators': 50}: 0.9710\n",
      "{'max_depth': 10, 'min_samples_leaf': 4, 'min_samples_split': 2, 'n_estimators': 100}: 0.9749\n",
      "{'max_depth': 10, 'min_samples_leaf': 4, 'min_samples_split': 2, 'n_estimators': 200}: 0.9762\n",
      "{'max_depth': 10, 'min_samples_leaf': 4, 'min_samples_split': 5, 'n_estimators': 50}: 0.9718\n",
      "{'max_depth': 10, 'min_samples_leaf': 4, 'min_samples_split': 5, 'n_estimators': 100}: 0.9723\n",
      "{'max_depth': 10, 'min_samples_leaf': 4, 'min_samples_split': 5, 'n_estimators': 200}: 0.9746\n",
      "{'max_depth': 10, 'min_samples_leaf': 4, 'min_samples_split': 10, 'n_estimators': 50}: 0.9741\n",
      "{'max_depth': 10, 'min_samples_leaf': 4, 'min_samples_split': 10, 'n_estimators': 100}: 0.9736\n",
      "{'max_depth': 10, 'min_samples_leaf': 4, 'min_samples_split': 10, 'n_estimators': 200}: 0.9752\n",
      "{'max_depth': 20, 'min_samples_leaf': 1, 'min_samples_split': 2, 'n_estimators': 50}: 0.9793\n",
      "{'max_depth': 20, 'min_samples_leaf': 1, 'min_samples_split': 2, 'n_estimators': 100}: 0.9812\n",
      "{'max_depth': 20, 'min_samples_leaf': 1, 'min_samples_split': 2, 'n_estimators': 200}: 0.9809\n",
      "{'max_depth': 20, 'min_samples_leaf': 1, 'min_samples_split': 5, 'n_estimators': 50}: 0.9793\n",
      "{'max_depth': 20, 'min_samples_leaf': 1, 'min_samples_split': 5, 'n_estimators': 100}: 0.9804\n",
      "{'max_depth': 20, 'min_samples_leaf': 1, 'min_samples_split': 5, 'n_estimators': 200}: 0.9804\n",
      "{'max_depth': 20, 'min_samples_leaf': 1, 'min_samples_split': 10, 'n_estimators': 50}: 0.9770\n",
      "{'max_depth': 20, 'min_samples_leaf': 1, 'min_samples_split': 10, 'n_estimators': 100}: 0.9783\n",
      "{'max_depth': 20, 'min_samples_leaf': 1, 'min_samples_split': 10, 'n_estimators': 200}: 0.9770\n",
      "{'max_depth': 20, 'min_samples_leaf': 2, 'min_samples_split': 2, 'n_estimators': 50}: 0.9765\n",
      "{'max_depth': 20, 'min_samples_leaf': 2, 'min_samples_split': 2, 'n_estimators': 100}: 0.9778\n",
      "{'max_depth': 20, 'min_samples_leaf': 2, 'min_samples_split': 2, 'n_estimators': 200}: 0.9796\n",
      "{'max_depth': 20, 'min_samples_leaf': 2, 'min_samples_split': 5, 'n_estimators': 50}: 0.9754\n",
      "{'max_depth': 20, 'min_samples_leaf': 2, 'min_samples_split': 5, 'n_estimators': 100}: 0.9778\n",
      "{'max_depth': 20, 'min_samples_leaf': 2, 'min_samples_split': 5, 'n_estimators': 200}: 0.9793\n",
      "{'max_depth': 20, 'min_samples_leaf': 2, 'min_samples_split': 10, 'n_estimators': 50}: 0.9759\n",
      "{'max_depth': 20, 'min_samples_leaf': 2, 'min_samples_split': 10, 'n_estimators': 100}: 0.9767\n",
      "{'max_depth': 20, 'min_samples_leaf': 2, 'min_samples_split': 10, 'n_estimators': 200}: 0.9778\n",
      "{'max_depth': 20, 'min_samples_leaf': 4, 'min_samples_split': 2, 'n_estimators': 50}: 0.9731\n",
      "{'max_depth': 20, 'min_samples_leaf': 4, 'min_samples_split': 2, 'n_estimators': 100}: 0.9772\n",
      "{'max_depth': 20, 'min_samples_leaf': 4, 'min_samples_split': 2, 'n_estimators': 200}: 0.9765\n",
      "{'max_depth': 20, 'min_samples_leaf': 4, 'min_samples_split': 5, 'n_estimators': 50}: 0.9733\n",
      "{'max_depth': 20, 'min_samples_leaf': 4, 'min_samples_split': 5, 'n_estimators': 100}: 0.9780\n",
      "{'max_depth': 20, 'min_samples_leaf': 4, 'min_samples_split': 5, 'n_estimators': 200}: 0.9780\n",
      "{'max_depth': 20, 'min_samples_leaf': 4, 'min_samples_split': 10, 'n_estimators': 50}: 0.9728\n",
      "{'max_depth': 20, 'min_samples_leaf': 4, 'min_samples_split': 10, 'n_estimators': 100}: 0.9744\n",
      "{'max_depth': 20, 'min_samples_leaf': 4, 'min_samples_split': 10, 'n_estimators': 200}: 0.9770\n",
      "\n",
      "最佳的超参数：{'max_depth': 20, 'min_samples_leaf': 1, 'min_samples_split': 2, 'n_estimators': 100}\n",
      "\n",
      "在测试集上的准确率：0.9682804674457429\n",
      "在测试集上的评估报告：\n",
      "              precision    recall  f1-score   support\n",
      "\n",
      "           0       0.98      0.99      0.99       178\n",
      "           1       0.95      0.99      0.97       182\n",
      "           2       1.00      0.97      0.99       177\n",
      "           3       0.96      0.95      0.95       183\n",
      "           4       0.98      0.99      0.99       181\n",
      "           5       0.98      0.98      0.98       182\n",
      "           6       0.99      0.98      0.99       181\n",
      "           7       0.97      0.94      0.95       179\n",
      "           8       0.95      0.95      0.95       174\n",
      "           9       0.92      0.94      0.93       180\n",
      "\n",
      "    accuracy                           0.97      1797\n",
      "   macro avg       0.97      0.97      0.97      1797\n",
      "weighted avg       0.97      0.97      0.97      1797\n",
      "\n"
     ]
    }
   ],
   "source": [
    "from sklearn.ensemble import RandomForestClassifier\n",
    "\n",
    "# 初始化随机森林模型\n",
    "rf_classifier = RandomForestClassifier()\n",
    "\n",
    "# 定义超参数搜索范围\n",
    "param_grid = {'n_estimators': [50, 100, 200], 'max_depth': [None, 10, 20], 'min_samples_split': [2, 5, 10],\n",
    "              'min_samples_leaf': [1, 2, 4]}\n",
    "\n",
    "# 使用GridSearchCV进行交叉验证寻找最佳的超参数\n",
    "grid_search = GridSearchCV(rf_classifier, param_grid, cv=kf, scoring='accuracy')\n",
    "grid_search.fit(X_train, y_train)\n",
    "\n",
    "# 获取每次交叉验证的准确率\n",
    "cv_results = grid_search.cv_results_\n",
    "accuracies = cv_results['mean_test_score']\n",
    "print(\"每次交叉验证的准确率：\")\n",
    "for params, acc in zip(cv_results['params'], accuracies):\n",
    "    print(f\"{params}: {acc:.4f}\")\n",
    "\n",
    "# 打印最佳的超参数\n",
    "best_params = grid_search.best_params_\n",
    "print(f\"\\n最佳的超参数：{best_params}\")\n",
    "\n",
    "# 使用最佳的超参数训练随机森林模型\n",
    "best_rf_classifier = RandomForestClassifier(**best_params)\n",
    "best_rf_classifier.fit(X_train, y_train)\n",
    "\n",
    "# 在测试集上评估模型性能\n",
    "accuracy = best_rf_classifier.score(X_test, y_test)\n",
    "print(f\"\\n在测试集上的准确率：{accuracy}\")\n",
    "\n",
    "y_pred = best_rf_classifier.predict(X_test)\n",
    "report = classification_report(y_test, y_pred)\n",
    "\n",
    "print(f\"在测试集上的评估报告：\\n{report}\")"
   ]
  },
  {
   "cell_type": "markdown",
   "id": "ef56ce7f-865b-4bf1-a14c-d6d8012f73b1",
   "metadata": {},
   "source": [
    "## 5.简单CNN神经网络"
   ]
  },
  {
   "cell_type": "code",
   "execution_count": 3,
   "id": "230c58e5-a139-4baa-818b-251584a2deae",
   "metadata": {},
   "outputs": [
    {
     "name": "stdout",
     "output_type": "stream",
     "text": [
      "Fold 1, Epoch 1/50, Validation Accuracy: 0.8431\n",
      "Fold 1, Epoch 2/50, Validation Accuracy: 0.9320\n",
      "Fold 1, Epoch 3/50, Validation Accuracy: 0.9556\n",
      "Fold 1, Epoch 4/50, Validation Accuracy: 0.9634\n",
      "Fold 1, Epoch 5/50, Validation Accuracy: 0.9647\n",
      "Fold 1, Epoch 6/50, Validation Accuracy: 0.9699\n",
      "Fold 1, Epoch 7/50, Validation Accuracy: 0.9752\n",
      "Fold 1, Epoch 8/50, Validation Accuracy: 0.9752\n",
      "Fold 1, Epoch 9/50, Validation Accuracy: 0.9765\n",
      "Fold 1, Epoch 10/50, Validation Accuracy: 0.9830\n",
      "Fold 1, Epoch 11/50, Validation Accuracy: 0.9725\n",
      "Fold 1, Epoch 12/50, Validation Accuracy: 0.9817\n",
      "Fold 1, Epoch 13/50, Validation Accuracy: 0.9804\n",
      "Fold 1, Epoch 14/50, Validation Accuracy: 0.9882\n",
      "Fold 1, Epoch 15/50, Validation Accuracy: 0.9895\n",
      "Fold 1, Epoch 16/50, Validation Accuracy: 0.9869\n",
      "Fold 1, Epoch 17/50, Validation Accuracy: 0.9869\n",
      "Fold 1, Epoch 18/50, Validation Accuracy: 0.9856\n",
      "Fold 1, Epoch 19/50, Validation Accuracy: 0.9856\n",
      "Fold 1, Epoch 20/50, Validation Accuracy: 0.9856\n",
      "Fold 1, Epoch 21/50, Validation Accuracy: 0.9869\n",
      "Fold 1, Epoch 22/50, Validation Accuracy: 0.9869\n",
      "Fold 1, Epoch 23/50, Validation Accuracy: 0.9869\n",
      "Fold 1, Epoch 24/50, Validation Accuracy: 0.9869\n",
      "Fold 1, Epoch 25/50, Validation Accuracy: 0.9869\n",
      "Fold 1, Epoch 26/50, Validation Accuracy: 0.9869\n",
      "Fold 1, Epoch 27/50, Validation Accuracy: 0.9869\n",
      "Fold 1, Epoch 28/50, Validation Accuracy: 0.9869\n",
      "Fold 1, Epoch 29/50, Validation Accuracy: 0.9869\n",
      "Fold 1, Epoch 30/50, Validation Accuracy: 0.9869\n",
      "Fold 1, Epoch 31/50, Validation Accuracy: 0.9882\n",
      "Fold 1, Epoch 32/50, Validation Accuracy: 0.9869\n",
      "Fold 1, Epoch 33/50, Validation Accuracy: 0.9869\n",
      "Fold 1, Epoch 34/50, Validation Accuracy: 0.9869\n",
      "Fold 1, Epoch 35/50, Validation Accuracy: 0.9869\n",
      "Fold 1, Epoch 36/50, Validation Accuracy: 0.9869\n",
      "Fold 1, Epoch 37/50, Validation Accuracy: 0.9869\n",
      "Fold 1, Epoch 38/50, Validation Accuracy: 0.9869\n",
      "Fold 1, Epoch 39/50, Validation Accuracy: 0.9869\n",
      "Fold 1, Epoch 40/50, Validation Accuracy: 0.9869\n",
      "Fold 1, Epoch 41/50, Validation Accuracy: 0.9869\n",
      "Fold 1, Epoch 42/50, Validation Accuracy: 0.9869\n",
      "Fold 1, Epoch 43/50, Validation Accuracy: 0.9869\n",
      "Fold 1, Epoch 44/50, Validation Accuracy: 0.9869\n",
      "Fold 1, Epoch 45/50, Validation Accuracy: 0.9869\n",
      "Fold 1, Epoch 46/50, Validation Accuracy: 0.9856\n",
      "Fold 1, Epoch 47/50, Validation Accuracy: 0.9869\n",
      "Fold 1, Epoch 48/50, Validation Accuracy: 0.9869\n",
      "Fold 1, Epoch 49/50, Validation Accuracy: 0.9869\n",
      "Fold 1, Epoch 50/50, Validation Accuracy: 0.9869\n",
      "Fold 2, Epoch 1/50, Validation Accuracy: 0.8993\n",
      "Fold 2, Epoch 2/50, Validation Accuracy: 0.9399\n",
      "Fold 2, Epoch 3/50, Validation Accuracy: 0.9725\n",
      "Fold 2, Epoch 4/50, Validation Accuracy: 0.9856\n",
      "Fold 2, Epoch 5/50, Validation Accuracy: 0.9843\n",
      "Fold 2, Epoch 6/50, Validation Accuracy: 0.9817\n",
      "Fold 2, Epoch 7/50, Validation Accuracy: 0.9817\n",
      "Fold 2, Epoch 8/50, Validation Accuracy: 0.9856\n",
      "Fold 2, Epoch 9/50, Validation Accuracy: 0.9843\n",
      "Fold 2, Epoch 10/50, Validation Accuracy: 0.9830\n",
      "Fold 2, Epoch 11/50, Validation Accuracy: 0.9830\n",
      "Fold 2, Epoch 12/50, Validation Accuracy: 0.9882\n",
      "Fold 2, Epoch 13/50, Validation Accuracy: 0.9843\n",
      "Fold 2, Epoch 14/50, Validation Accuracy: 0.9869\n",
      "Fold 2, Epoch 15/50, Validation Accuracy: 0.9856\n",
      "Fold 2, Epoch 16/50, Validation Accuracy: 0.9856\n",
      "Fold 2, Epoch 17/50, Validation Accuracy: 0.9869\n",
      "Fold 2, Epoch 18/50, Validation Accuracy: 0.9882\n",
      "Fold 2, Epoch 19/50, Validation Accuracy: 0.9856\n",
      "Fold 2, Epoch 20/50, Validation Accuracy: 0.9843\n",
      "Fold 2, Epoch 21/50, Validation Accuracy: 0.9856\n",
      "Fold 2, Epoch 22/50, Validation Accuracy: 0.9882\n",
      "Fold 2, Epoch 23/50, Validation Accuracy: 0.9869\n",
      "Fold 2, Epoch 24/50, Validation Accuracy: 0.9856\n",
      "Fold 2, Epoch 25/50, Validation Accuracy: 0.9882\n",
      "Fold 2, Epoch 26/50, Validation Accuracy: 0.9869\n",
      "Fold 2, Epoch 27/50, Validation Accuracy: 0.9856\n",
      "Fold 2, Epoch 28/50, Validation Accuracy: 0.9856\n",
      "Fold 2, Epoch 29/50, Validation Accuracy: 0.9869\n",
      "Fold 2, Epoch 30/50, Validation Accuracy: 0.9856\n",
      "Fold 2, Epoch 31/50, Validation Accuracy: 0.9869\n",
      "Fold 2, Epoch 32/50, Validation Accuracy: 0.9869\n",
      "Fold 2, Epoch 33/50, Validation Accuracy: 0.9869\n",
      "Fold 2, Epoch 34/50, Validation Accuracy: 0.9856\n",
      "Fold 2, Epoch 35/50, Validation Accuracy: 0.9856\n",
      "Fold 2, Epoch 36/50, Validation Accuracy: 0.9869\n",
      "Fold 2, Epoch 37/50, Validation Accuracy: 0.9856\n",
      "Fold 2, Epoch 38/50, Validation Accuracy: 0.9869\n",
      "Fold 2, Epoch 39/50, Validation Accuracy: 0.9856\n",
      "Fold 2, Epoch 40/50, Validation Accuracy: 0.9882\n",
      "Fold 2, Epoch 41/50, Validation Accuracy: 0.9856\n",
      "Fold 2, Epoch 42/50, Validation Accuracy: 0.9869\n",
      "Fold 2, Epoch 43/50, Validation Accuracy: 0.9869\n",
      "Fold 2, Epoch 44/50, Validation Accuracy: 0.9856\n",
      "Fold 2, Epoch 45/50, Validation Accuracy: 0.9856\n",
      "Fold 2, Epoch 46/50, Validation Accuracy: 0.9869\n",
      "Fold 2, Epoch 47/50, Validation Accuracy: 0.9869\n",
      "Fold 2, Epoch 48/50, Validation Accuracy: 0.9856\n",
      "Fold 2, Epoch 49/50, Validation Accuracy: 0.9869\n",
      "Fold 2, Epoch 50/50, Validation Accuracy: 0.9869\n",
      "Fold 3, Epoch 1/50, Validation Accuracy: 0.8196\n",
      "Fold 3, Epoch 2/50, Validation Accuracy: 0.9281\n",
      "Fold 3, Epoch 3/50, Validation Accuracy: 0.9516\n",
      "Fold 3, Epoch 4/50, Validation Accuracy: 0.9634\n",
      "Fold 3, Epoch 5/50, Validation Accuracy: 0.9712\n",
      "Fold 3, Epoch 6/50, Validation Accuracy: 0.9725\n",
      "Fold 3, Epoch 7/50, Validation Accuracy: 0.9791\n",
      "Fold 3, Epoch 8/50, Validation Accuracy: 0.9765\n",
      "Fold 3, Epoch 9/50, Validation Accuracy: 0.9817\n",
      "Fold 3, Epoch 10/50, Validation Accuracy: 0.9725\n",
      "Fold 3, Epoch 11/50, Validation Accuracy: 0.9791\n",
      "Fold 3, Epoch 12/50, Validation Accuracy: 0.9843\n",
      "Fold 3, Epoch 13/50, Validation Accuracy: 0.9856\n",
      "Fold 3, Epoch 14/50, Validation Accuracy: 0.9843\n",
      "Fold 3, Epoch 15/50, Validation Accuracy: 0.9856\n",
      "Fold 3, Epoch 16/50, Validation Accuracy: 0.9843\n",
      "Fold 3, Epoch 17/50, Validation Accuracy: 0.9830\n",
      "Fold 3, Epoch 18/50, Validation Accuracy: 0.9856\n",
      "Fold 3, Epoch 19/50, Validation Accuracy: 0.9830\n",
      "Fold 3, Epoch 20/50, Validation Accuracy: 0.9843\n",
      "Fold 3, Epoch 21/50, Validation Accuracy: 0.9856\n",
      "Fold 3, Epoch 22/50, Validation Accuracy: 0.9882\n",
      "Fold 3, Epoch 23/50, Validation Accuracy: 0.9843\n",
      "Fold 3, Epoch 24/50, Validation Accuracy: 0.9869\n",
      "Fold 3, Epoch 25/50, Validation Accuracy: 0.9817\n",
      "Fold 3, Epoch 26/50, Validation Accuracy: 0.9843\n",
      "Fold 3, Epoch 27/50, Validation Accuracy: 0.9869\n",
      "Fold 3, Epoch 28/50, Validation Accuracy: 0.9869\n",
      "Fold 3, Epoch 29/50, Validation Accuracy: 0.9882\n",
      "Fold 3, Epoch 30/50, Validation Accuracy: 0.9856\n",
      "Fold 3, Epoch 31/50, Validation Accuracy: 0.9856\n",
      "Fold 3, Epoch 32/50, Validation Accuracy: 0.9843\n",
      "Fold 3, Epoch 33/50, Validation Accuracy: 0.9856\n",
      "Fold 3, Epoch 34/50, Validation Accuracy: 0.9869\n",
      "Fold 3, Epoch 35/50, Validation Accuracy: 0.9856\n",
      "Fold 3, Epoch 36/50, Validation Accuracy: 0.9869\n",
      "Fold 3, Epoch 37/50, Validation Accuracy: 0.9882\n",
      "Fold 3, Epoch 38/50, Validation Accuracy: 0.9869\n",
      "Fold 3, Epoch 39/50, Validation Accuracy: 0.9856\n",
      "Fold 3, Epoch 40/50, Validation Accuracy: 0.9856\n",
      "Fold 3, Epoch 41/50, Validation Accuracy: 0.9856\n",
      "Fold 3, Epoch 42/50, Validation Accuracy: 0.9856\n",
      "Fold 3, Epoch 43/50, Validation Accuracy: 0.9869\n",
      "Fold 3, Epoch 44/50, Validation Accuracy: 0.9869\n",
      "Fold 3, Epoch 45/50, Validation Accuracy: 0.9856\n",
      "Fold 3, Epoch 46/50, Validation Accuracy: 0.9830\n",
      "Fold 3, Epoch 47/50, Validation Accuracy: 0.9856\n",
      "Fold 3, Epoch 48/50, Validation Accuracy: 0.9882\n",
      "Fold 3, Epoch 49/50, Validation Accuracy: 0.9856\n",
      "Fold 3, Epoch 50/50, Validation Accuracy: 0.9869\n",
      "Fold 4, Epoch 1/50, Validation Accuracy: 0.8678\n",
      "Fold 4, Epoch 2/50, Validation Accuracy: 0.9516\n",
      "Fold 4, Epoch 3/50, Validation Accuracy: 0.9634\n",
      "Fold 4, Epoch 4/50, Validation Accuracy: 0.9817\n",
      "Fold 4, Epoch 5/50, Validation Accuracy: 0.9830\n",
      "Fold 4, Epoch 6/50, Validation Accuracy: 0.9830\n",
      "Fold 4, Epoch 7/50, Validation Accuracy: 0.9869\n",
      "Fold 4, Epoch 8/50, Validation Accuracy: 0.9843\n",
      "Fold 4, Epoch 9/50, Validation Accuracy: 0.9908\n",
      "Fold 4, Epoch 10/50, Validation Accuracy: 0.9882\n",
      "Fold 4, Epoch 11/50, Validation Accuracy: 0.9895\n",
      "Fold 4, Epoch 12/50, Validation Accuracy: 0.9921\n",
      "Fold 4, Epoch 13/50, Validation Accuracy: 0.9895\n",
      "Fold 4, Epoch 14/50, Validation Accuracy: 0.9921\n",
      "Fold 4, Epoch 15/50, Validation Accuracy: 0.9908\n",
      "Fold 4, Epoch 16/50, Validation Accuracy: 0.9921\n",
      "Fold 4, Epoch 17/50, Validation Accuracy: 0.9921\n",
      "Fold 4, Epoch 18/50, Validation Accuracy: 0.9921\n",
      "Fold 4, Epoch 19/50, Validation Accuracy: 0.9908\n",
      "Fold 4, Epoch 20/50, Validation Accuracy: 0.9921\n",
      "Fold 4, Epoch 21/50, Validation Accuracy: 0.9921\n",
      "Fold 4, Epoch 22/50, Validation Accuracy: 0.9908\n",
      "Fold 4, Epoch 23/50, Validation Accuracy: 0.9921\n",
      "Fold 4, Epoch 24/50, Validation Accuracy: 0.9908\n",
      "Fold 4, Epoch 25/50, Validation Accuracy: 0.9908\n",
      "Fold 4, Epoch 26/50, Validation Accuracy: 0.9908\n",
      "Fold 4, Epoch 27/50, Validation Accuracy: 0.9921\n",
      "Fold 4, Epoch 28/50, Validation Accuracy: 0.9921\n",
      "Fold 4, Epoch 29/50, Validation Accuracy: 0.9908\n",
      "Fold 4, Epoch 30/50, Validation Accuracy: 0.9908\n",
      "Fold 4, Epoch 31/50, Validation Accuracy: 0.9908\n",
      "Fold 4, Epoch 32/50, Validation Accuracy: 0.9908\n",
      "Fold 4, Epoch 33/50, Validation Accuracy: 0.9921\n",
      "Fold 4, Epoch 34/50, Validation Accuracy: 0.9921\n",
      "Fold 4, Epoch 35/50, Validation Accuracy: 0.9921\n",
      "Fold 4, Epoch 36/50, Validation Accuracy: 0.9921\n",
      "Fold 4, Epoch 37/50, Validation Accuracy: 0.9908\n",
      "Fold 4, Epoch 38/50, Validation Accuracy: 0.9921\n",
      "Fold 4, Epoch 39/50, Validation Accuracy: 0.9908\n",
      "Fold 4, Epoch 40/50, Validation Accuracy: 0.9908\n",
      "Fold 4, Epoch 41/50, Validation Accuracy: 0.9908\n",
      "Fold 4, Epoch 42/50, Validation Accuracy: 0.9921\n",
      "Fold 4, Epoch 43/50, Validation Accuracy: 0.9921\n",
      "Fold 4, Epoch 44/50, Validation Accuracy: 0.9921\n",
      "Fold 4, Epoch 45/50, Validation Accuracy: 0.9921\n",
      "Fold 4, Epoch 46/50, Validation Accuracy: 0.9921\n",
      "Fold 4, Epoch 47/50, Validation Accuracy: 0.9908\n",
      "Fold 4, Epoch 48/50, Validation Accuracy: 0.9921\n",
      "Fold 4, Epoch 49/50, Validation Accuracy: 0.9908\n",
      "Fold 4, Epoch 50/50, Validation Accuracy: 0.9921\n",
      "Fold 5, Epoch 1/50, Validation Accuracy: 0.8442\n",
      "Fold 5, Epoch 2/50, Validation Accuracy: 0.9346\n",
      "Fold 5, Epoch 3/50, Validation Accuracy: 0.9764\n",
      "Fold 5, Epoch 4/50, Validation Accuracy: 0.9843\n",
      "Fold 5, Epoch 5/50, Validation Accuracy: 0.9869\n",
      "Fold 5, Epoch 6/50, Validation Accuracy: 0.9869\n",
      "Fold 5, Epoch 7/50, Validation Accuracy: 0.9908\n",
      "Fold 5, Epoch 8/50, Validation Accuracy: 0.9895\n",
      "Fold 5, Epoch 9/50, Validation Accuracy: 0.9869\n",
      "Fold 5, Epoch 10/50, Validation Accuracy: 0.9895\n",
      "Fold 5, Epoch 11/50, Validation Accuracy: 0.9895\n",
      "Fold 5, Epoch 12/50, Validation Accuracy: 0.9921\n",
      "Fold 5, Epoch 13/50, Validation Accuracy: 0.9935\n",
      "Fold 5, Epoch 14/50, Validation Accuracy: 0.9921\n",
      "Fold 5, Epoch 15/50, Validation Accuracy: 0.9921\n",
      "Fold 5, Epoch 16/50, Validation Accuracy: 0.9921\n",
      "Fold 5, Epoch 17/50, Validation Accuracy: 0.9921\n",
      "Fold 5, Epoch 18/50, Validation Accuracy: 0.9935\n",
      "Fold 5, Epoch 19/50, Validation Accuracy: 0.9921\n",
      "Fold 5, Epoch 20/50, Validation Accuracy: 0.9921\n",
      "Fold 5, Epoch 21/50, Validation Accuracy: 0.9921\n",
      "Fold 5, Epoch 22/50, Validation Accuracy: 0.9921\n",
      "Fold 5, Epoch 23/50, Validation Accuracy: 0.9921\n",
      "Fold 5, Epoch 24/50, Validation Accuracy: 0.9921\n",
      "Fold 5, Epoch 25/50, Validation Accuracy: 0.9935\n",
      "Fold 5, Epoch 26/50, Validation Accuracy: 0.9921\n",
      "Fold 5, Epoch 27/50, Validation Accuracy: 0.9935\n",
      "Fold 5, Epoch 28/50, Validation Accuracy: 0.9921\n",
      "Fold 5, Epoch 29/50, Validation Accuracy: 0.9921\n",
      "Fold 5, Epoch 30/50, Validation Accuracy: 0.9921\n",
      "Fold 5, Epoch 31/50, Validation Accuracy: 0.9921\n",
      "Fold 5, Epoch 32/50, Validation Accuracy: 0.9921\n",
      "Fold 5, Epoch 33/50, Validation Accuracy: 0.9935\n",
      "Fold 5, Epoch 34/50, Validation Accuracy: 0.9921\n",
      "Fold 5, Epoch 35/50, Validation Accuracy: 0.9935\n",
      "Fold 5, Epoch 36/50, Validation Accuracy: 0.9921\n",
      "Fold 5, Epoch 37/50, Validation Accuracy: 0.9935\n",
      "Fold 5, Epoch 38/50, Validation Accuracy: 0.9935\n",
      "Fold 5, Epoch 39/50, Validation Accuracy: 0.9921\n",
      "Fold 5, Epoch 40/50, Validation Accuracy: 0.9935\n",
      "Fold 5, Epoch 41/50, Validation Accuracy: 0.9935\n",
      "Fold 5, Epoch 42/50, Validation Accuracy: 0.9935\n",
      "Fold 5, Epoch 43/50, Validation Accuracy: 0.9935\n",
      "Fold 5, Epoch 44/50, Validation Accuracy: 0.9921\n",
      "Fold 5, Epoch 45/50, Validation Accuracy: 0.9921\n",
      "Fold 5, Epoch 46/50, Validation Accuracy: 0.9935\n",
      "Fold 5, Epoch 47/50, Validation Accuracy: 0.9935\n",
      "Fold 5, Epoch 48/50, Validation Accuracy: 0.9921\n",
      "Fold 5, Epoch 49/50, Validation Accuracy: 0.9935\n",
      "Fold 5, Epoch 50/50, Validation Accuracy: 0.9921\n",
      "\n",
      "Best Accuracy: 0.9935 (Epoch 13)\n",
      "在测试集上的准确率：0.9805\n",
      "在测试集上的评估报告：\n",
      "              precision    recall  f1-score   support\n",
      "\n",
      "           0       0.99      1.00      0.99       178\n",
      "           1       0.97      0.99      0.98       182\n",
      "           2       0.99      0.96      0.98       177\n",
      "           3       0.99      0.96      0.97       183\n",
      "           4       0.98      0.99      0.99       181\n",
      "           5       0.98      0.98      0.98       182\n",
      "           6       0.99      0.99      0.99       181\n",
      "           7       0.99      0.98      0.99       179\n",
      "           8       0.95      0.97      0.96       174\n",
      "           9       0.95      0.97      0.96       180\n",
      "\n",
      "    accuracy                           0.98      1797\n",
      "   macro avg       0.98      0.98      0.98      1797\n",
      "weighted avg       0.98      0.98      0.98      1797\n",
      "\n"
     ]
    }
   ],
   "source": [
    "import torch\n",
    "import torch.nn as nn\n",
    "import torch.optim as optim\n",
    "from torch.utils.data import DataLoader, TensorDataset\n",
    "from sklearn.metrics import classification_report\n",
    "from sklearn.model_selection import train_test_split, KFold\n",
    "from sklearn.preprocessing import StandardScaler\n",
    "import pandas as pd\n",
    "import numpy as np\n",
    "\n",
    "# 读取训练数据和测试数据\n",
    "train_data = pd.read_csv('./datasets/optdigits.tra', header=None)\n",
    "test_data = pd.read_csv('./datasets/optdigits.tes', header=None)\n",
    "\n",
    "# 将数据和标签分离\n",
    "X_train = train_data.iloc[:, :-1].values\n",
    "y_train = train_data.iloc[:, -1].values\n",
    "X_test = test_data.iloc[:, :-1].values\n",
    "y_test = test_data.iloc[:, -1].values\n",
    "\n",
    "# 数据标准化\n",
    "scaler = StandardScaler()\n",
    "X_train = scaler.fit_transform(X_train)\n",
    "X_test = scaler.transform(X_test)\n",
    "\n",
    "# 将数据集转换为 PyTorch 张量\n",
    "X_train_tensor = torch.tensor(X_train, dtype=torch.float32)\n",
    "y_train_tensor = torch.tensor(y_train, dtype=torch.long)\n",
    "X_test_tensor = torch.tensor(X_test, dtype=torch.float32)\n",
    "y_test_tensor = torch.tensor(y_test, dtype=torch.long)\n",
    "\n",
    "# 将数据包装成 TensorDataset\n",
    "train_dataset = TensorDataset(X_train_tensor, y_train_tensor)\n",
    "test_dataset = TensorDataset(X_test_tensor, y_test_tensor)\n",
    "\n",
    "# 创建 DataLoader 加载数据\n",
    "train_loader = DataLoader(train_dataset, batch_size=64, shuffle=True)\n",
    "test_loader = DataLoader(test_dataset, batch_size=64, shuffle=False)\n",
    "\n",
    "# 定义 CNN 模型\n",
    "class CNNModel(nn.Module):\n",
    "    def __init__(self):\n",
    "        super(CNNModel, self).__init__()\n",
    "        self.conv1 = nn.Conv2d(1, 32, kernel_size=5, stride=1, padding=2)\n",
    "        self.pool = nn.MaxPool2d(kernel_size=2, stride=2, padding=0)\n",
    "        self.conv2 = nn.Conv2d(32, 64, kernel_size=5, stride=1, padding=2)\n",
    "        self.fc1 = nn.Linear(64 * 2 * 2, 128)\n",
    "        self.fc2 = nn.Linear(128, 10)\n",
    "\n",
    "    def forward(self, x):\n",
    "        x = x.view(-1, 1, 8, 8)  # 将数据重塑为图像格式\n",
    "        x = self.pool(nn.functional.relu(self.conv1(x)))\n",
    "        x = self.pool(nn.functional.relu(self.conv2(x)))\n",
    "        # print(x.shape)\n",
    "        x = x.view(-1, 64 * 2 * 2)\n",
    "        # print(x.shape)\n",
    "        x = torch.sigmoid(self.fc1(x))\n",
    "        x = self.fc2(x)\n",
    "        return x\n",
    "\n",
    "# 训练模型\n",
    "best_accuracy = 0.0\n",
    "best_epoch = 0\n",
    "num_epochs =50\n",
    "\n",
    "# 定义 K 折交叉验证\n",
    "k_folds = 5\n",
    "kf = KFold(n_splits=k_folds, shuffle=True)\n",
    "\n",
    "for fold, (train_indices, val_indices) in enumerate(kf.split(train_dataset)):\n",
    "    # 创建训练集和验证集的 DataLoader\n",
    "    train_subset = torch.utils.data.Subset(train_dataset, train_indices)\n",
    "    val_subset = torch.utils.data.Subset(train_dataset, val_indices)\n",
    "\n",
    "    train_loader = DataLoader(train_subset, batch_size=64, shuffle=True)\n",
    "    val_loader = DataLoader(val_subset, batch_size=64, shuffle=False)\n",
    "\n",
    "    # 模型、优化器等的初始化\n",
    "    model = CNNModel()\n",
    "    criterion = nn.CrossEntropyLoss()\n",
    "    optimizer = optim.Adam(model.parameters(), lr=0.001)\n",
    "\n",
    "    # 训练模型\n",
    "    for epoch in range(num_epochs):\n",
    "        model.train()\n",
    "        total_loss = 0.0\n",
    "        total_correct = 0\n",
    "        total_samples = 0\n",
    "\n",
    "        for inputs, labels in train_loader:\n",
    "            optimizer.zero_grad()\n",
    "            outputs = model(inputs)\n",
    "            loss = criterion(outputs, labels)\n",
    "            loss.backward()\n",
    "            optimizer.step()\n",
    "\n",
    "        # 在验证集上计算准确率\n",
    "        model.eval()\n",
    "        correct = 0\n",
    "        total = 0\n",
    "        with torch.no_grad():\n",
    "            for inputs, labels in val_loader:\n",
    "                outputs = model(inputs)\n",
    "                _, predicted = torch.max(outputs, 1)\n",
    "                total += labels.size(0)\n",
    "                correct += (predicted == labels).sum().item()\n",
    "\n",
    "        accuracy = correct / total\n",
    "        print(f'Fold {fold + 1}, Epoch {epoch + 1}/{num_epochs}, Validation Accuracy: {accuracy:.4f}')\n",
    "\n",
    "        # 记录最佳模型\n",
    "        if accuracy > best_accuracy:\n",
    "            best_accuracy = accuracy\n",
    "            best_epoch = epoch\n",
    "            # 保存最佳模型参数\n",
    "            best_model_params = model.state_dict()\n",
    "\n",
    "# 输出最佳模型的准确率和保存参数的 epoch\n",
    "print(f'\\nBest Accuracy: {best_accuracy:.4f} (Epoch {best_epoch + 1})')\n",
    "\n",
    "#保存参数\n",
    "torch.save(best_model_params, 'params.pth')\n",
    "\n",
    "# 加载最佳模型的参数到模型\n",
    "model.load_state_dict(best_model_params)\n",
    "\n",
    "# 在测试集上评估模型性能\n",
    "model.eval()\n",
    "with torch.no_grad():\n",
    "    test_outputs = model(X_test_tensor)\n",
    "    _, test_predicted = torch.max(test_outputs, 1)\n",
    "    test_accuracy = torch.sum(test_predicted == y_test_tensor).item() / len(y_test_tensor)\n",
    "    print(f\"在测试集上的准确率：{test_accuracy:.4f}\")\n",
    "\n",
    "report = classification_report(y_test,test_predicted.numpy())\n",
    "print(f\"在测试集上的评估报告：\\n{report}\")"
   ]
  },
  {
   "cell_type": "code",
   "execution_count": null,
   "id": "d1104857-c436-4f7b-a68e-e101d47d16a2",
   "metadata": {},
   "outputs": [],
   "source": []
  }
 ],
 "metadata": {
  "kernelspec": {
   "display_name": "pytorch-pro",
   "language": "python",
   "name": "pytorch-pro"
  },
  "language_info": {
   "codemirror_mode": {
    "name": "ipython",
    "version": 3
   },
   "file_extension": ".py",
   "mimetype": "text/x-python",
   "name": "python",
   "nbconvert_exporter": "python",
   "pygments_lexer": "ipython3",
   "version": "3.8.18"
  }
 },
 "nbformat": 4,
 "nbformat_minor": 5
}
